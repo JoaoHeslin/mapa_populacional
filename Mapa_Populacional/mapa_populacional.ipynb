{
 "cells": [
  {
   "cell_type": "markdown",
   "metadata": {},
   "source": [
    "## Mapa populacional demográfico\n",
    "\n",
    "Este arquivo contém um script para criar uma visualização interativa de um mapa populacional utilizando a biblioteca Plotly. O objetivo é exibir a distribuição populacional de várias cidades localizadas no estado da Paraíba, Brasil.\n",
    "\n",
    "#### Componentes do Script:\n",
    "\n",
    "1. **Importação de Bibliotecas**:\n",
    "   - `pandas`: Para manipulação de dados.\n",
    "   - `plotly.express` e `plotly.io`: Para criação e exibição de gráficos interativos.\n",
    "\n",
    "2. **Definição dos Dados**:\n",
    "   - **Listas de Dados**: Contêm informações sobre cidades, estado, latitude, longitude e população das cidades na Paraíba.\n",
    "   - **Criação do DataFrame**: Os dados são organizados em um DataFrame do Pandas para facilitar a manipulação e visualização.\n",
    "\n",
    "3. **Criação do Mapa Populacional**:\n",
    "   - `px.density_mapbox`: Utilizado para criar um mapa de densidade populacional. Este gráfico exibe a intensidade da população em diferentes áreas geográficas.\n",
    "\n",
    "4. **Exibição do Mapa**:\n",
    "   - O mapa é exibido no navegador usando o estilo de mapa \"stamen-terrain\" para uma visualização detalhada e estética.\n"
   ]
  },
  {
   "cell_type": "code",
   "execution_count": 1,
   "metadata": {},
   "outputs": [],
   "source": [
    "import pandas as pd\n",
    "import plotly.express as px\n",
    "import plotly.io as pio"
   ]
  },
  {
   "cell_type": "code",
   "execution_count": 2,
   "metadata": {},
   "outputs": [],
   "source": [
    "pio.renderers.default = 'notebook'"
   ]
  },
  {
   "cell_type": "markdown",
   "metadata": {},
   "source": [
    "#### Definindo as cidades:"
   ]
  },
  {
   "cell_type": "code",
   "execution_count": 3,
   "metadata": {},
   "outputs": [],
   "source": [
    "cidades = [\"Pedra Branca\", \"Itaporanga\", \"Piancó\",\n",
    "           \"Santana dos Garrotes\",\"Nova Olinda\",\n",
    "           \"Boa Ventura\",\"Diamante\",\"Igaracy\"]\n",
    "\n",
    "estado = [\"Paraíba\",\"Paraíba\",\"Paraíba\",\n",
    "          \"Paraíba\",\"Paraíba\",\"Paraíba\",\n",
    "          \"Paraíba\",\"Paraíba\"]\n",
    "\n",
    "latitude = [-7.05,-7.30274,-7.19802,\n",
    "            -7.3873,-7.47179,-7.41182,\n",
    "            -7.43322,-7.1662]\n",
    "\n",
    "longitude = [-38.0333,-38.1504,-37.9295,\n",
    "             -37.9721,-38.0386,-38.2093,\n",
    "             -38.2615,-38.1415]\n",
    "\n",
    "populacao = [3.801,24.692,16.075,7.031,5.949,5.366,6.552, 6.117]"
   ]
  },
  {
   "cell_type": "markdown",
   "metadata": {},
   "source": [
    "#### Transformando em um DataFrame"
   ]
  },
  {
   "cell_type": "code",
   "execution_count": 4,
   "metadata": {},
   "outputs": [
    {
     "data": {
      "text/html": [
       "<div>\n",
       "<style scoped>\n",
       "    .dataframe tbody tr th:only-of-type {\n",
       "        vertical-align: middle;\n",
       "    }\n",
       "\n",
       "    .dataframe tbody tr th {\n",
       "        vertical-align: top;\n",
       "    }\n",
       "\n",
       "    .dataframe thead th {\n",
       "        text-align: right;\n",
       "    }\n",
       "</style>\n",
       "<table border=\"1\" class=\"dataframe\">\n",
       "  <thead>\n",
       "    <tr style=\"text-align: right;\">\n",
       "      <th></th>\n",
       "      <th>Cidade</th>\n",
       "      <th>UF</th>\n",
       "      <th>Latitude</th>\n",
       "      <th>Longitude</th>\n",
       "      <th>População</th>\n",
       "    </tr>\n",
       "  </thead>\n",
       "  <tbody>\n",
       "    <tr>\n",
       "      <th>0</th>\n",
       "      <td>Pedra Branca</td>\n",
       "      <td>Paraíba</td>\n",
       "      <td>-7.05000</td>\n",
       "      <td>-38.0333</td>\n",
       "      <td>3.801</td>\n",
       "    </tr>\n",
       "    <tr>\n",
       "      <th>1</th>\n",
       "      <td>Itaporanga</td>\n",
       "      <td>Paraíba</td>\n",
       "      <td>-7.30274</td>\n",
       "      <td>-38.1504</td>\n",
       "      <td>24.692</td>\n",
       "    </tr>\n",
       "    <tr>\n",
       "      <th>2</th>\n",
       "      <td>Piancó</td>\n",
       "      <td>Paraíba</td>\n",
       "      <td>-7.19802</td>\n",
       "      <td>-37.9295</td>\n",
       "      <td>16.075</td>\n",
       "    </tr>\n",
       "    <tr>\n",
       "      <th>3</th>\n",
       "      <td>Santana dos Garrotes</td>\n",
       "      <td>Paraíba</td>\n",
       "      <td>-7.38730</td>\n",
       "      <td>-37.9721</td>\n",
       "      <td>7.031</td>\n",
       "    </tr>\n",
       "    <tr>\n",
       "      <th>4</th>\n",
       "      <td>Nova Olinda</td>\n",
       "      <td>Paraíba</td>\n",
       "      <td>-7.47179</td>\n",
       "      <td>-38.0386</td>\n",
       "      <td>5.949</td>\n",
       "    </tr>\n",
       "    <tr>\n",
       "      <th>5</th>\n",
       "      <td>Boa Ventura</td>\n",
       "      <td>Paraíba</td>\n",
       "      <td>-7.41182</td>\n",
       "      <td>-38.2093</td>\n",
       "      <td>5.366</td>\n",
       "    </tr>\n",
       "    <tr>\n",
       "      <th>6</th>\n",
       "      <td>Diamante</td>\n",
       "      <td>Paraíba</td>\n",
       "      <td>-7.43322</td>\n",
       "      <td>-38.2615</td>\n",
       "      <td>6.552</td>\n",
       "    </tr>\n",
       "    <tr>\n",
       "      <th>7</th>\n",
       "      <td>Igaracy</td>\n",
       "      <td>Paraíba</td>\n",
       "      <td>-7.16620</td>\n",
       "      <td>-38.1415</td>\n",
       "      <td>6.117</td>\n",
       "    </tr>\n",
       "  </tbody>\n",
       "</table>\n",
       "</div>"
      ],
      "text/plain": [
       "                 Cidade       UF  Latitude  Longitude  População\n",
       "0          Pedra Branca  Paraíba  -7.05000   -38.0333      3.801\n",
       "1            Itaporanga  Paraíba  -7.30274   -38.1504     24.692\n",
       "2                Piancó  Paraíba  -7.19802   -37.9295     16.075\n",
       "3  Santana dos Garrotes  Paraíba  -7.38730   -37.9721      7.031\n",
       "4           Nova Olinda  Paraíba  -7.47179   -38.0386      5.949\n",
       "5           Boa Ventura  Paraíba  -7.41182   -38.2093      5.366\n",
       "6              Diamante  Paraíba  -7.43322   -38.2615      6.552\n",
       "7               Igaracy  Paraíba  -7.16620   -38.1415      6.117"
      ]
     },
     "execution_count": 4,
     "metadata": {},
     "output_type": "execute_result"
    }
   ],
   "source": [
    "dicionario = {\n",
    "    \"Cidade\":cidades,\n",
    "    \"UF\":estado,\n",
    "    \"Latitude\":latitude,\n",
    "    \"Longitude\":longitude,\n",
    "    \"População\":populacao\n",
    "}\n",
    "\n",
    "df = pd.DataFrame(dicionario)\n",
    "df"
   ]
  },
  {
   "cell_type": "markdown",
   "metadata": {},
   "source": [
    "#### Plotando o mapa:"
   ]
  },
  {
   "cell_type": "code",
   "execution_count": 5,
   "metadata": {},
   "outputs": [],
   "source": [
    "fig = px.density_mapbox(\n",
    "    df,\n",
    "    lat= \"Latitude\",\n",
    "    lon= \"Longitude\",\n",
    "    z= \"População\",\n",
    "    radius= 30,\n",
    "    center = dict(lat= -7.300, lon=-38.1045),\n",
    "    zoom= 8,\n",
    "    title=\"Mapa Populacional\",\n",
    "    mapbox_style = \"stamen-terrain\"\n",
    ")\n",
    "pio.renderers.default = 'browser'\n",
    "fig.show()"
   ]
  }
 ],
 "metadata": {
  "kernelspec": {
   "display_name": "Python 3",
   "language": "python",
   "name": "python3"
  },
  "language_info": {
   "codemirror_mode": {
    "name": "ipython",
    "version": 3
   },
   "file_extension": ".py",
   "mimetype": "text/x-python",
   "name": "python",
   "nbconvert_exporter": "python",
   "pygments_lexer": "ipython3",
   "version": "3.11.0"
  }
 },
 "nbformat": 4,
 "nbformat_minor": 2
}
